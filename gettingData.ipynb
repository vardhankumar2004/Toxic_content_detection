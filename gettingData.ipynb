{
 "cells": [
  {
   "cell_type": "code",
   "execution_count": null,
   "metadata": {},
   "outputs": [],
   "source": [
    "import pandas as pd\n",
    "\n",
    "splits = {'test': 'annotated/test-00000-of-00001.parquet', 'train': 'annotated/train-00000-of-00001.parquet'}\n",
    "\n"
   ]
  },
  {
   "cell_type": "code",
   "execution_count": null,
   "metadata": {},
   "outputs": [],
   "source": [
    "df = pd.read_parquet(\"hf://datasets/toxigen/toxigen-data/\" + splits[\"test\"])\n",
    "#load the df in a csv file\n",
    "df.to_csv('toxigen-test.csv', index=False)"
   ]
  },
  {
   "cell_type": "code",
   "execution_count": null,
   "metadata": {},
   "outputs": [],
   "source": [
    "df1 = pd.read_parquet(\"hf://datasets/toxigen/toxigen-data/\" + splits[\"train\"])\n",
    "df1.to_csv('toxigen-train.csv', index=False)"
   ]
  },
  {
   "cell_type": "code",
   "execution_count": null,
   "metadata": {},
   "outputs": [
    {
     "name": "stdout",
     "output_type": "stream",
     "text": [
      "toxicity_human\n",
      "1.000000    2359\n",
      "5.000000    1007\n",
      "1.666667     946\n",
      "1.333333     871\n",
      "2.000000     526\n",
      "4.666667     520\n",
      "2.333333     493\n",
      "4.333333     469\n",
      "2.666667     382\n",
      "3.000000     368\n",
      "3.666667     365\n",
      "3.333333     343\n",
      "4.000000     311\n",
      "Name: count, dtype: int64\n"
     ]
    }
   ],
   "source": [
    "#Checking How many times 3 occured as toxicity_human(on a scale of 1-5, 3 is ambiguos)\n",
    "print(df1['toxicity_human'].value_counts())"
   ]
  },
  {
   "cell_type": "code",
   "execution_count": 17,
   "metadata": {},
   "outputs": [],
   "source": [
    "df = pd.read_csv('toxigen-train.csv')"
   ]
  },
  {
   "cell_type": "code",
   "execution_count": null,
   "metadata": {},
   "outputs": [],
   "source": [
    "#only Getting text toxicity_human attributes, Remaning are not needed\n",
    "df = df[['text', 'toxicity_human']]"
   ]
  },
  {
   "cell_type": "code",
   "execution_count": 16,
   "metadata": {},
   "outputs": [],
   "source": [
    "df.to_csv('toxigen-train-truncated.csv', index=False)"
   ]
  },
  {
   "cell_type": "code",
   "execution_count": null,
   "metadata": {},
   "outputs": [],
   "source": [
    "df = pd.read_csv('toxigen-train-truncated.csv')\n",
    "\n",
    "response_df = pd.DataFrame(columns=['text', 'toxicity_human'])\n",
    "\n",
    "for i in range(8960):\n",
    "    text = df.iloc[i]['text']\n",
    "    toxicity_human = df.iloc[i]['toxicity_human']\n",
    "    if(toxicity_human == 3):\n",
    "        continue    \n",
    "    response_df.loc[len(response_df)] = [text, toxicity_human]\n",
    "\n",
    "response_df.to_csv('train.csv', index=False)\n",
    "# train.csv is the final file for generating label and rationals from LLM"
   ]
  },
  {
   "cell_type": "code",
   "execution_count": 18,
   "metadata": {},
   "outputs": [],
   "source": [
    "df = pd.read_csv('toxigen-test.csv')"
   ]
  },
  {
   "cell_type": "code",
   "execution_count": 19,
   "metadata": {},
   "outputs": [],
   "source": [
    "df = df[['text', 'toxicity_human']]"
   ]
  },
  {
   "cell_type": "code",
   "execution_count": 20,
   "metadata": {},
   "outputs": [],
   "source": [
    "df.to_csv('toxigen-test-truncated.csv', index=False)"
   ]
  },
  {
   "cell_type": "code",
   "execution_count": null,
   "metadata": {},
   "outputs": [],
   "source": [
    "df = pd.read_csv('toxigen-test-truncated.csv')\n",
    "\n",
    "response_df = pd.DataFrame(columns=['text', 'toxicity_human'])\n",
    "len(df)\n",
    "\n",
    "for i in range(len(df)):\n",
    "    text = df.iloc[i]['text']\n",
    "    toxicity_human = df.iloc[i]['toxicity_human']\n",
    "    if(toxicity_human == 3):\n",
    "        continue   \n",
    "    response_df.loc[len(response_df)] = [text, toxicity_human]\n",
    "response_df.to_csv('test.csv', index=False)\n",
    "# Final Test File"
   ]
  }
 ],
 "metadata": {
  "kernelspec": {
   "display_name": "Python 3",
   "language": "python",
   "name": "python3"
  },
  "language_info": {
   "codemirror_mode": {
    "name": "ipython",
    "version": 3
   },
   "file_extension": ".py",
   "mimetype": "text/x-python",
   "name": "python",
   "nbconvert_exporter": "python",
   "pygments_lexer": "ipython3",
   "version": "3.10.5"
  }
 },
 "nbformat": 4,
 "nbformat_minor": 2
}
