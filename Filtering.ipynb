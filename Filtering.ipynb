{
 "cells": [
  {
   "cell_type": "code",
   "execution_count": 14,
   "metadata": {},
   "outputs": [],
   "source": [
    "import pandas as pd"
   ]
  },
  {
   "cell_type": "code",
   "execution_count": 15,
   "metadata": {},
   "outputs": [],
   "source": [
    "df2 = pd.read_csv('response_train.csv')\n",
    "response_df = pd.DataFrame(columns=['text', 'label', 'explanation'])\n",
    "for i in range(0, len(df2)): \n",
    "    if df2.iloc[i]['toxicity_human'] > 3:\n",
    "        if df2.iloc[i]['label'].strip().lower() == 'yes':\n",
    "            response_df.loc[len(response_df)] = [df2.iloc[i]['text'], 1, df2.iloc[i]['explanation']]\n",
    "    else:\n",
    "        if df2.iloc[i]['label'].strip().lower() == 'no':\n",
    "            response_df.loc[len(response_df)] = [df2.iloc[i]['text'], 0, df2.iloc[i]['explanation']]\n",
    "\n",
    "response_df.to_csv('response_train_filtered.csv', index=False)"
   ]
  },
  {
   "cell_type": "code",
   "execution_count": 16,
   "metadata": {},
   "outputs": [
    {
     "name": "stdout",
     "output_type": "stream",
     "text": [
      "7386\n"
     ]
    }
   ],
   "source": [
    "print(len(response_df))"
   ]
  },
  {
   "cell_type": "code",
   "execution_count": 17,
   "metadata": {},
   "outputs": [],
   "source": [
    "df2 = pd.read_csv('response_test.csv')\n",
    "response_df = pd.DataFrame(columns=['text', 'label', 'explanation'])\n",
    "for i in range(0, len(df2)): \n",
    "    if df2.iloc[i]['toxicity_human'] > 3:\n",
    "        if df2.iloc[i]['label'].strip().lower() == 'yes':\n",
    "            response_df.loc[len(response_df)] = [df2.iloc[i]['text'], 1, df2.iloc[i]['explanation']]\n",
    "    else:\n",
    "        if df2.iloc[i]['label'].strip().lower() == 'no':\n",
    "            response_df.loc[len(response_df)] = [df2.iloc[i]['text'], 0, df2.iloc[i]['explanation']]\n",
    "response_df.to_csv('response_test_filtered.csv', index=False)"
   ]
  },
  {
   "cell_type": "code",
   "execution_count": 18,
   "metadata": {},
   "outputs": [
    {
     "name": "stdout",
     "output_type": "stream",
     "text": [
      "735\n"
     ]
    }
   ],
   "source": [
    "print(len(response_df))"
   ]
  }
 ],
 "metadata": {
  "kernelspec": {
   "display_name": "Python 3",
   "language": "python",
   "name": "python3"
  },
  "language_info": {
   "codemirror_mode": {
    "name": "ipython",
    "version": 3
   },
   "file_extension": ".py",
   "mimetype": "text/x-python",
   "name": "python",
   "nbconvert_exporter": "python",
   "pygments_lexer": "ipython3",
   "version": "3.10.5"
  }
 },
 "nbformat": 4,
 "nbformat_minor": 2
}
