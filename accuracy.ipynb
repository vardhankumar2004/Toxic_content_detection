{
 "cells": [
  {
   "cell_type": "code",
   "execution_count": null,
   "metadata": {},
   "outputs": [],
   "source": [
    "# For Getting train accuracy and test accuracy of gemini. They are different just syntacticaly. We haven't trained gemini on the train_data, but I just cross checked the accuracy of gemini on the train_data and test_data.\n",
    "import pandas as pd"
   ]
  },
  {
   "cell_type": "code",
   "execution_count": 29,
   "metadata": {},
   "outputs": [],
   "source": [
    "df1 = pd.read_csv('train.csv')"
   ]
  },
  {
   "cell_type": "code",
   "execution_count": 30,
   "metadata": {},
   "outputs": [],
   "source": [
    "sum = 0\n",
    "df2 = pd.read_csv('response_train.csv')\n",
    "for i in range(0, len(df2)): \n",
    "    if df2.iloc[i]['toxicity_human'] > 3:\n",
    "        if df2.iloc[i]['label'].strip().lower() == 'yes':\n",
    "            sum += 1\n",
    "    else:\n",
    "        if df2.iloc[i]['label'].strip().lower() == 'no':\n",
    "            sum += 1  "
   ]
  },
  {
   "cell_type": "code",
   "execution_count": 31,
   "metadata": {},
   "outputs": [
    {
     "name": "stdout",
     "output_type": "stream",
     "text": [
      "0.8596368715083799\n",
      "0.8596368715083799\n"
     ]
    }
   ],
   "source": [
    "print(sum/len(df1))\n",
    "print(sum/len(df2))"
   ]
  },
  {
   "cell_type": "code",
   "execution_count": 32,
   "metadata": {},
   "outputs": [
    {
     "name": "stdout",
     "output_type": "stream",
     "text": [
      "0.8112582781456954\n",
      "0.8112582781456954\n"
     ]
    }
   ],
   "source": [
    "df1 = pd.read_csv('test.csv')\n",
    "df2 = pd.read_csv('response_test.csv')\n",
    "sum = 0\n",
    "for i in range(len(df2)):\n",
    "    if df2.iloc[i]['toxicity_human'] > 3:\n",
    "        # make the check case insensitive\n",
    "        if df2.iloc[i]['label'].strip().lower() == 'yes':\n",
    "            sum += 1\n",
    "    else:\n",
    "        if df2.iloc[i]['label'].strip().lower() == 'no':\n",
    "            sum += 1\n",
    "print(sum/len(df2))\n",
    "print(sum/len(df1))"
   ]
  }
 ],
 "metadata": {
  "kernelspec": {
   "display_name": "Python 3",
   "language": "python",
   "name": "python3"
  },
  "language_info": {
   "codemirror_mode": {
    "name": "ipython",
    "version": 3
   },
   "file_extension": ".py",
   "mimetype": "text/x-python",
   "name": "python",
   "nbconvert_exporter": "python",
   "pygments_lexer": "ipython3",
   "version": "3.10.5"
  }
 },
 "nbformat": 4,
 "nbformat_minor": 2
}
