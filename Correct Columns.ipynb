{
 "cells": [
  {
   "cell_type": "code",
   "execution_count": 1,
   "metadata": {},
   "outputs": [],
   "source": [
    "import pandas as pd"
   ]
  },
  {
   "cell_type": "code",
   "execution_count": 2,
   "metadata": {},
   "outputs": [],
   "source": [
    "df2 = pd.read_csv('response_train.csv')\n",
    "response_df = pd.DataFrame(columns=['text', 'label', 'explanation', 'toxicity_human'])\n",
    "for i in range(0, len(df2)): \n",
    "    th = 0\n",
    "    if df2.iloc[i]['toxicity_human'] > 3:\n",
    "        th = 1\n",
    "    t_gemini = 0\n",
    "    if df2.iloc[i]['label'].strip().lower() == 'yes':\n",
    "        t_gemini = 1\n",
    "    response_df.loc[len(response_df)] = [df2.iloc[i]['text'], t_gemini, df2.iloc[i]['explanation'], th]\n",
    "    #         response_df.loc[len(response_df)] = [df2.iloc[i]['text'], 1, df2.iloc[i]['explanation']]\n",
    "    # else:\n",
    "    #     if df2.iloc[i]['label'].strip().lower() == 'no':\n",
    "    #         response_df.loc[len(response_df)] = [df2.iloc[i]['text'], 0, df2.iloc[i]['explanation']]\n",
    "\n",
    "response_df.to_csv('train_response.csv', index=False)"
   ]
  },
  {
   "cell_type": "code",
   "execution_count": 3,
   "metadata": {},
   "outputs": [
    {
     "name": "stdout",
     "output_type": "stream",
     "text": [
      "8592\n"
     ]
    }
   ],
   "source": [
    "print(len(response_df))"
   ]
  },
  {
   "cell_type": "code",
   "execution_count": 5,
   "metadata": {},
   "outputs": [],
   "source": [
    "df2 = pd.read_csv('response_test.csv')\n",
    "response_df = pd.DataFrame(columns=['text', 'label', 'explanation', 'toxicity_human'])\n",
    "for i in range(0, len(df2)): \n",
    "    th = 0\n",
    "    if df2.iloc[i]['toxicity_human'] > 3:\n",
    "        th = 1\n",
    "    t_gemini = 0\n",
    "    if df2.iloc[i]['label'].strip().lower() == 'yes':\n",
    "        t_gemini = 1\n",
    "    response_df.loc[len(response_df)] = [df2.iloc[i]['text'], t_gemini, df2.iloc[i]['explanation'], th]\n",
    "    #         response_df.loc[len(response_df)] = [df2.iloc[i]['text'], 1, df2.iloc[i]['explanation']]\n",
    "    # else:\n",
    "    #     if df2.iloc[i]['label'].strip().lower() == 'no':\n",
    "    #         response_df.loc[len(response_df)] = [df2.iloc[i]['text'], 0, df2.iloc[i]['explanation']]\n",
    "\n",
    "response_df.to_csv('test_response.csv', index=False)"
   ]
  },
  {
   "cell_type": "code",
   "execution_count": 6,
   "metadata": {},
   "outputs": [
    {
     "name": "stdout",
     "output_type": "stream",
     "text": [
      "906\n"
     ]
    }
   ],
   "source": [
    "print(len(response_df))"
   ]
  }
 ],
 "metadata": {
  "kernelspec": {
   "display_name": "Python 3",
   "language": "python",
   "name": "python3"
  },
  "language_info": {
   "codemirror_mode": {
    "name": "ipython",
    "version": 3
   },
   "file_extension": ".py",
   "mimetype": "text/x-python",
   "name": "python",
   "nbconvert_exporter": "python",
   "pygments_lexer": "ipython3",
   "version": "3.10.5"
  }
 },
 "nbformat": 4,
 "nbformat_minor": 2
}
