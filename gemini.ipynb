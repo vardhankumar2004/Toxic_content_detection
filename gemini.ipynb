{
 "cells": [
  {
   "cell_type": "code",
   "execution_count": null,
   "metadata": {},
   "outputs": [],
   "source": [
    "#This is the code to generate rationales and labels given statement. I am Using Gemini-1.5-flash model for this task. I have done this task manually and collected all the data text, label, toxicity_level, toxicity_human explanation in a csv file response_train.csv\n",
    "\n",
    "import os\n",
    "import google.generativeai as genai\n",
    "import pandas as pd\n",
    "from tqdm import tqdm\n",
    "import time\n",
    "\n",
    "genai.configure(api_key=\"<API_KEY>\")\n",
    "\n",
    "generation_config = {\n",
    "  \"temperature\": 1,\n",
    "  \"top_p\": 0.95,\n",
    "  \"top_k\": 40,\n",
    "  \"max_output_tokens\": 128,\n",
    "  \"response_mime_type\": \"text/plain\",\n",
    "}\n",
    "\n",
    "model = genai.GenerativeModel(\n",
    "  model_name=\"gemini-1.5-flash\",\n",
    "  generation_config=generation_config,\n",
    ")\n",
    "\n",
    "chat_session = model.start_chat(history=[])\n",
    "\n",
    "df = pd.read_csv('train.csv')\n",
    "\n",
    "response_df = pd.DataFrame(columns=['text', 'label', 'toxicity_level', 'explanation'])\n",
    "\n",
    "for i in tqdm(range(6000, 6200)):\n",
    "    text = df.iloc[i]['text']\n",
    "    try:\n",
    "        response = chat_session.send_message(\n",
    "            \"Is the below statement toxic (Yes/NO). Toxicity level(0 to 100%). Provide a Breif explanation (20 words max). Provide them in new lines. Statement : \" + text\n",
    "        )\n",
    "        response_text = response.text\n",
    "        lines = response_text.split(\"\\n\")\n",
    "        \n",
    "        label = lines[0].strip() if len(lines) > 0 else \"N/A\"\n",
    "        toxicity_level = lines[1].strip() if len(lines) > 1 else \"N/A\"\n",
    "        explanation = lines[2].strip() if len(lines) > 2 else \"N/A\"\n",
    "        \n",
    "        response_df.loc[len(response_df)] = [text, label, toxicity_level, explanation]\n",
    "\n",
    "    except Exception as e:\n",
    "        print(f\"Error processing index {i}: {e}\")\n",
    "        response_df.loc[len(response_df)] = [text, \"Error\", \"Error\", \"Error\"]\n",
    "response_df.to_csv('response7.csv', index=False)\n"
   ]
  },
  {
   "cell_type": "code",
   "execution_count": 62,
   "metadata": {},
   "outputs": [
    {
     "name": "stderr",
     "output_type": "stream",
     "text": [
      "100%|██████████| 200/200 [03:45<00:00,  1.13s/it]\n"
     ]
    }
   ],
   "source": [
    "chat_session = model.start_chat(history=[])\n",
    "\n",
    "response_df = pd.DataFrame(columns=['text', 'label', 'toxicity_level', 'explanation'])\n",
    "\n",
    "for i in tqdm(range(6200, 6400)):\n",
    "    text = df.iloc[i]['text']\n",
    "    try:\n",
    "        response = chat_session.send_message(\n",
    "            \"Is the below statement toxic (Yes/NO). Toxicity level(0 to 100%). Provide a Breif explanation (20 words max). Provide them in new lines. Statement : \" + text\n",
    "        )\n",
    "        response_text = response.text\n",
    "        lines = response_text.split(\"\\n\")\n",
    "        \n",
    "        label = lines[0].strip() if len(lines) > 0 else \"N/A\"\n",
    "        toxicity_level = lines[1].strip() if len(lines) > 1 else \"N/A\"\n",
    "        explanation = lines[2].strip() if len(lines) > 2 else \"N/A\"\n",
    "        \n",
    "        response_df.loc[len(response_df)] = [text, label, toxicity_level, explanation]\n",
    "\n",
    "    except Exception as e:\n",
    "        print(f\"Error processing index {i}: {e}\")\n",
    "        response_df.loc[len(response_df)] = [text, \"Error\", \"Error\", \"Error\"]\n",
    "response_df.to_csv('temp1.csv', index=False)\n"
   ]
  },
  {
   "cell_type": "code",
   "execution_count": 63,
   "metadata": {},
   "outputs": [
    {
     "name": "stderr",
     "output_type": "stream",
     "text": [
      "100%|██████████| 200/200 [03:34<00:00,  1.07s/it]\n"
     ]
    }
   ],
   "source": [
    "chat_session = model.start_chat(history=[])\n",
    "\n",
    "response_df = pd.DataFrame(columns=['text', 'label', 'toxicity_level', 'explanation'])\n",
    "\n",
    "for i in tqdm(range(6400, 6600)):\n",
    "    text = df.iloc[i]['text']\n",
    "    try:\n",
    "        response = chat_session.send_message(\n",
    "            \"Is the below statement toxic (Yes/NO). Toxicity level(0 to 100%). Provide a Breif explanation (20 words max). Provide them in new lines. Statement : \" + text\n",
    "        )\n",
    "        response_text = response.text\n",
    "        lines = response_text.split(\"\\n\")\n",
    "        \n",
    "        label = lines[0].strip() if len(lines) > 0 else \"N/A\"\n",
    "        toxicity_level = lines[1].strip() if len(lines) > 1 else \"N/A\"\n",
    "        explanation = lines[2].strip() if len(lines) > 2 else \"N/A\"\n",
    "        \n",
    "        response_df.loc[len(response_df)] = [text, label, toxicity_level, explanation]\n",
    "\n",
    "    except Exception as e:\n",
    "        print(f\"Error processing index {i}: {e}\")\n",
    "        response_df.loc[len(response_df)] = [text, \"Error\", \"Error\", \"Error\"]\n",
    "response_df.to_csv('temp2.csv', index=False)\n"
   ]
  },
  {
   "cell_type": "code",
   "execution_count": 64,
   "metadata": {},
   "outputs": [
    {
     "name": "stderr",
     "output_type": "stream",
     "text": [
      "100%|██████████| 200/200 [03:31<00:00,  1.06s/it]\n"
     ]
    }
   ],
   "source": [
    "chat_session = model.start_chat(history=[])\n",
    "\n",
    "response_df = pd.DataFrame(columns=['text', 'label', 'toxicity_level', 'explanation'])\n",
    "\n",
    "for i in tqdm(range(6600, 6800)):\n",
    "    text = df.iloc[i]['text']\n",
    "    try:\n",
    "        response = chat_session.send_message(\n",
    "            \"Is the below statement toxic (Yes/NO). Toxicity level(0 to 100%). Provide a Breif explanation (20 words max). Provide them in new lines. Statement : \" + text\n",
    "        )\n",
    "        response_text = response.text\n",
    "        lines = response_text.split(\"\\n\")\n",
    "        \n",
    "        label = lines[0].strip() if len(lines) > 0 else \"N/A\"\n",
    "        toxicity_level = lines[1].strip() if len(lines) > 1 else \"N/A\"\n",
    "        explanation = lines[2].strip() if len(lines) > 2 else \"N/A\"\n",
    "        \n",
    "        response_df.loc[len(response_df)] = [text, label, toxicity_level, explanation]\n",
    "\n",
    "    except Exception as e:\n",
    "        print(f\"Error processing index {i}: {e}\")\n",
    "        response_df.loc[len(response_df)] = [text, \"Error\", \"Error\", \"Error\"]\n",
    "response_df.to_csv('temp3.csv', index=False)"
   ]
  },
  {
   "cell_type": "code",
   "execution_count": 65,
   "metadata": {},
   "outputs": [
    {
     "name": "stderr",
     "output_type": "stream",
     "text": [
      "100%|██████████| 200/200 [03:36<00:00,  1.08s/it]\n"
     ]
    }
   ],
   "source": [
    "chat_session = model.start_chat(history=[])\n",
    "\n",
    "response_df = pd.DataFrame(columns=['text', 'label', 'toxicity_level', 'explanation'])\n",
    "\n",
    "for i in tqdm(range(6800, 7000)):\n",
    "    text = df.iloc[i]['text']\n",
    "    try:\n",
    "        response = chat_session.send_message(\n",
    "            \"Is the below statement toxic (Yes/NO). Toxicity level(0 to 100%). Provide a Breif explanation (20 words max). Provide them in new lines. Statement : \" + text\n",
    "        )\n",
    "        response_text = response.text\n",
    "        lines = response_text.split(\"\\n\")\n",
    "        \n",
    "        label = lines[0].strip() if len(lines) > 0 else \"N/A\"\n",
    "        toxicity_level = lines[1].strip() if len(lines) > 1 else \"N/A\"\n",
    "        explanation = lines[2].strip() if len(lines) > 2 else \"N/A\"\n",
    "        \n",
    "        response_df.loc[len(response_df)] = [text, label, toxicity_level, explanation]\n",
    "\n",
    "    except Exception as e:\n",
    "        print(f\"Error processing index {i}: {e}\")\n",
    "        response_df.loc[len(response_df)] = [text, \"Error\", \"Error\", \"Error\"]\n",
    "response_df.to_csv('temp4.csv', index=False)"
   ]
  },
  {
   "cell_type": "code",
   "execution_count": 66,
   "metadata": {},
   "outputs": [
    {
     "name": "stderr",
     "output_type": "stream",
     "text": [
      "100%|██████████| 200/200 [03:52<00:00,  1.16s/it]\n"
     ]
    }
   ],
   "source": [
    "chat_session = model.start_chat(history=[])\n",
    "\n",
    "response_df = pd.DataFrame(columns=['text', 'label', 'toxicity_level', 'explanation'])\n",
    "\n",
    "for i in tqdm(range(7000, 7200)):\n",
    "    text = df.iloc[i]['text']\n",
    "    try:\n",
    "        response = chat_session.send_message(\n",
    "            \"Is the below statement toxic (Yes/NO). Toxicity level(0 to 100%). Provide a Breif explanation (20 words max). Provide them in new lines. Statement : \" + text\n",
    "        )\n",
    "        response_text = response.text\n",
    "        lines = response_text.split(\"\\n\")\n",
    "        \n",
    "        label = lines[0].strip() if len(lines) > 0 else \"N/A\"\n",
    "        toxicity_level = lines[1].strip() if len(lines) > 1 else \"N/A\"\n",
    "        explanation = lines[2].strip() if len(lines) > 2 else \"N/A\"\n",
    "        \n",
    "        response_df.loc[len(response_df)] = [text, label, toxicity_level, explanation]\n",
    "\n",
    "    except Exception as e:\n",
    "        print(f\"Error processing index {i}: {e}\")\n",
    "        response_df.loc[len(response_df)] = [text, \"Error\", \"Error\", \"Error\"]\n",
    "response_df.to_csv('response8.csv', index=False)"
   ]
  },
  {
   "cell_type": "code",
   "execution_count": 67,
   "metadata": {},
   "outputs": [
    {
     "name": "stderr",
     "output_type": "stream",
     "text": [
      "100%|██████████| 200/200 [03:42<00:00,  1.11s/it]\n"
     ]
    }
   ],
   "source": [
    "chat_session = model.start_chat(history=[])\n",
    "\n",
    "response_df = pd.DataFrame(columns=['text', 'label', 'toxicity_level', 'explanation'])\n",
    "\n",
    "for i in tqdm(range(7200, 7400)):\n",
    "    text = df.iloc[i]['text']\n",
    "    try:\n",
    "        response = chat_session.send_message(\n",
    "            \"Is the below statement toxic (Yes/NO). Toxicity level(0 to 100%). Provide a Breif explanation (20 words max). Provide them in new lines. Statement : \" + text\n",
    "        )\n",
    "        response_text = response.text\n",
    "        lines = response_text.split(\"\\n\")\n",
    "        \n",
    "        label = lines[0].strip() if len(lines) > 0 else \"N/A\"\n",
    "        toxicity_level = lines[1].strip() if len(lines) > 1 else \"N/A\"\n",
    "        explanation = lines[2].strip() if len(lines) > 2 else \"N/A\"\n",
    "        \n",
    "        response_df.loc[len(response_df)] = [text, label, toxicity_level, explanation]\n",
    "\n",
    "    except Exception as e:\n",
    "        print(f\"Error processing index {i}: {e}\")\n",
    "        response_df.loc[len(response_df)] = [text, \"Error\", \"Error\", \"Error\"]\n",
    "response_df.to_csv('response_8_1.csv', index=False)"
   ]
  },
  {
   "cell_type": "code",
   "execution_count": 68,
   "metadata": {},
   "outputs": [
    {
     "name": "stderr",
     "output_type": "stream",
     "text": [
      "100%|██████████| 200/200 [03:32<00:00,  1.06s/it]\n"
     ]
    }
   ],
   "source": [
    "chat_session = model.start_chat(history=[])\n",
    "\n",
    "response_df = pd.DataFrame(columns=['text', 'label', 'toxicity_level', 'explanation'])\n",
    "\n",
    "for i in tqdm(range(7400, 7600)):\n",
    "    text = df.iloc[i]['text']\n",
    "    try:\n",
    "        response = chat_session.send_message(\n",
    "            \"Is the below statement toxic (Yes/NO). Toxicity level(0 to 100%). Provide a Breif explanation (20 words max). Provide them in new lines. Statement : \" + text\n",
    "        )\n",
    "        response_text = response.text\n",
    "        lines = response_text.split(\"\\n\")\n",
    "        \n",
    "        label = lines[0].strip() if len(lines) > 0 else \"N/A\"\n",
    "        toxicity_level = lines[1].strip() if len(lines) > 1 else \"N/A\"\n",
    "        explanation = lines[2].strip() if len(lines) > 2 else \"N/A\"\n",
    "        \n",
    "        response_df.loc[len(response_df)] = [text, label, toxicity_level, explanation]\n",
    "\n",
    "    except Exception as e:\n",
    "        print(f\"Error processing index {i}: {e}\")\n",
    "        response_df.loc[len(response_df)] = [text, \"Error\", \"Error\", \"Error\"]\n",
    "response_df.to_csv('response_8_2.csv', index=False)"
   ]
  },
  {
   "cell_type": "code",
   "execution_count": 69,
   "metadata": {},
   "outputs": [
    {
     "name": "stderr",
     "output_type": "stream",
     "text": [
      "100%|██████████| 200/200 [03:33<00:00,  1.07s/it]\n"
     ]
    }
   ],
   "source": [
    "chat_session = model.start_chat(history=[])\n",
    "\n",
    "response_df = pd.DataFrame(columns=['text', 'label', 'toxicity_level', 'explanation'])\n",
    "\n",
    "for i in tqdm(range(7600, 7800)):\n",
    "    text = df.iloc[i]['text']\n",
    "    try:\n",
    "        response = chat_session.send_message(\n",
    "            \"Is the below statement toxic (Yes/NO). Toxicity level(0 to 100%). Provide a Breif explanation (20 words max). Provide them in new lines. Statement : \" + text\n",
    "        )\n",
    "        response_text = response.text\n",
    "        lines = response_text.split(\"\\n\")\n",
    "        \n",
    "        label = lines[0].strip() if len(lines) > 0 else \"N/A\"\n",
    "        toxicity_level = lines[1].strip() if len(lines) > 1 else \"N/A\"\n",
    "        explanation = lines[2].strip() if len(lines) > 2 else \"N/A\"\n",
    "        \n",
    "        response_df.loc[len(response_df)] = [text, label, toxicity_level, explanation]\n",
    "\n",
    "    except Exception as e:\n",
    "        print(f\"Error processing index {i}: {e}\")\n",
    "        response_df.loc[len(response_df)] = [text, \"Error\", \"Error\", \"Error\"]\n",
    "response_df.to_csv('response_8_3.csv', index=False)"
   ]
  },
  {
   "cell_type": "code",
   "execution_count": 70,
   "metadata": {},
   "outputs": [
    {
     "name": "stderr",
     "output_type": "stream",
     "text": [
      "100%|██████████| 200/200 [03:40<00:00,  1.10s/it]\n"
     ]
    }
   ],
   "source": [
    "chat_session = model.start_chat(history=[])\n",
    "\n",
    "response_df = pd.DataFrame(columns=['text', 'label', 'toxicity_level', 'explanation'])\n",
    "\n",
    "for i in tqdm(range(7800, 8000)):\n",
    "    text = df.iloc[i]['text']\n",
    "    try:\n",
    "        response = chat_session.send_message(\n",
    "            \"Is the below statement toxic (Yes/NO). Toxicity level(0 to 100%). Provide a Breif explanation (20 words max). Provide them in new lines. Statement : \" + text\n",
    "        )\n",
    "        response_text = response.text\n",
    "        lines = response_text.split(\"\\n\")\n",
    "        \n",
    "        label = lines[0].strip() if len(lines) > 0 else \"N/A\"\n",
    "        toxicity_level = lines[1].strip() if len(lines) > 1 else \"N/A\"\n",
    "        explanation = lines[2].strip() if len(lines) > 2 else \"N/A\"\n",
    "        \n",
    "        response_df.loc[len(response_df)] = [text, label, toxicity_level, explanation]\n",
    "\n",
    "    except Exception as e:\n",
    "        print(f\"Error processing index {i}: {e}\")\n",
    "        response_df.loc[len(response_df)] = [text, \"Error\", \"Error\", \"Error\"]\n",
    "response_df.to_csv('response_8_4.csv', index=False)"
   ]
  },
  {
   "cell_type": "code",
   "execution_count": 71,
   "metadata": {},
   "outputs": [
    {
     "name": "stderr",
     "output_type": "stream",
     "text": [
      "100%|██████████| 200/200 [03:39<00:00,  1.10s/it]\n"
     ]
    }
   ],
   "source": [
    "chat_session = model.start_chat(history=[])\n",
    "\n",
    "response_df = pd.DataFrame(columns=['text', 'label', 'toxicity_level', 'explanation'])\n",
    "\n",
    "for i in tqdm(range(8000, 8200)):\n",
    "    text = df.iloc[i]['text']\n",
    "    try:\n",
    "        response = chat_session.send_message(\n",
    "            \"Is the below statement toxic (Yes/NO). Toxicity level(0 to 100%). Provide a Breif explanation (20 words max). Provide them in new lines. Statement : \" + text\n",
    "        )\n",
    "        response_text = response.text\n",
    "        lines = response_text.split(\"\\n\")\n",
    "        \n",
    "        label = lines[0].strip() if len(lines) > 0 else \"N/A\"\n",
    "        toxicity_level = lines[1].strip() if len(lines) > 1 else \"N/A\"\n",
    "        explanation = lines[2].strip() if len(lines) > 2 else \"N/A\"\n",
    "        \n",
    "        response_df.loc[len(response_df)] = [text, label, toxicity_level, explanation]\n",
    "\n",
    "    except Exception as e:\n",
    "        print(f\"Error processing index {i}: {e}\")\n",
    "        response_df.loc[len(response_df)] = [text, \"Error\", \"Error\", \"Error\"]\n",
    "response_df.to_csv('response9.csv', index=False)"
   ]
  },
  {
   "cell_type": "code",
   "execution_count": 72,
   "metadata": {},
   "outputs": [
    {
     "name": "stderr",
     "output_type": "stream",
     "text": [
      "100%|██████████| 200/200 [03:38<00:00,  1.09s/it]\n"
     ]
    }
   ],
   "source": [
    "chat_session = model.start_chat(history=[])\n",
    "\n",
    "response_df = pd.DataFrame(columns=['text', 'label', 'toxicity_level', 'explanation'])\n",
    "\n",
    "for i in tqdm(range(8200, 8400)):\n",
    "    text = df.iloc[i]['text']\n",
    "    try:\n",
    "        response = chat_session.send_message(\n",
    "            \"Is the below statement toxic (Yes/NO). Toxicity level(0 to 100%). Provide a Breif explanation (20 words max). Provide them in new lines. Statement : \" + text\n",
    "        )\n",
    "        response_text = response.text\n",
    "        lines = response_text.split(\"\\n\")\n",
    "        \n",
    "        label = lines[0].strip() if len(lines) > 0 else \"N/A\"\n",
    "        toxicity_level = lines[1].strip() if len(lines) > 1 else \"N/A\"\n",
    "        explanation = lines[2].strip() if len(lines) > 2 else \"N/A\"\n",
    "        \n",
    "        response_df.loc[len(response_df)] = [text, label, toxicity_level, explanation]\n",
    "\n",
    "    except Exception as e:\n",
    "        print(f\"Error processing index {i}: {e}\")\n",
    "        response_df.loc[len(response_df)] = [text, \"Error\", \"Error\", \"Error\"]\n",
    "response_df.to_csv('response9_1.csv', index=False)"
   ]
  },
  {
   "cell_type": "code",
   "execution_count": 73,
   "metadata": {},
   "outputs": [
    {
     "name": "stderr",
     "output_type": "stream",
     "text": [
      "100%|██████████| 192/192 [03:18<00:00,  1.04s/it]\n"
     ]
    }
   ],
   "source": [
    "chat_session = model.start_chat(history=[])\n",
    "\n",
    "response_df = pd.DataFrame(columns=['text', 'label', 'toxicity_level', 'explanation'])\n",
    "\n",
    "for i in tqdm(range(8400, len(df))):\n",
    "    text = df.iloc[i]['text']\n",
    "    try:\n",
    "        response = chat_session.send_message(\n",
    "            \"Is the below statement toxic (Yes/NO). Toxicity level(0 to 100%). Provide a Breif explanation (20 words max). Provide them in new lines. Statement : \" + text\n",
    "        )\n",
    "        response_text = response.text\n",
    "        lines = response_text.split(\"\\n\")\n",
    "        \n",
    "        label = lines[0].strip() if len(lines) > 0 else \"N/A\"\n",
    "        toxicity_level = lines[1].strip() if len(lines) > 1 else \"N/A\"\n",
    "        explanation = lines[2].strip() if len(lines) > 2 else \"N/A\"\n",
    "        \n",
    "        response_df.loc[len(response_df)] = [text, label, toxicity_level, explanation]\n",
    "\n",
    "    except Exception as e:\n",
    "        print(f\"Error processing index {i}: {e}\")\n",
    "        response_df.loc[len(response_df)] = [text, \"Error\", \"Error\", \"Error\"]\n",
    "response_df.to_csv('response9_2.csv', index=False)"
   ]
  }
 ],
 "metadata": {
  "kernelspec": {
   "display_name": "Python 3",
   "language": "python",
   "name": "python3"
  },
  "language_info": {
   "codemirror_mode": {
    "name": "ipython",
    "version": 3
   },
   "file_extension": ".py",
   "mimetype": "text/x-python",
   "name": "python",
   "nbconvert_exporter": "python",
   "pygments_lexer": "ipython3",
   "version": "3.10.5"
  }
 },
 "nbformat": 4,
 "nbformat_minor": 2
}
