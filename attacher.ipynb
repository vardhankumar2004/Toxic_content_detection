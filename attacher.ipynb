{
 "cells": [
  {
   "cell_type": "code",
   "execution_count": null,
   "metadata": {},
   "outputs": [],
   "source": [
    "import pandas as pd\n",
    "# This is just for attaching all the responses for the train data. I have stored responses in separate files and combining them here."
   ]
  },
  {
   "cell_type": "code",
   "execution_count": 3,
   "metadata": {},
   "outputs": [],
   "source": [
    "df1 = pd.read_csv('train.csv')"
   ]
  },
  {
   "cell_type": "code",
   "execution_count": 4,
   "metadata": {},
   "outputs": [],
   "source": [
    "\n",
    "response_df = pd.DataFrame(columns=['text', 'label', 'toxicity_level', 'explanation', 'toxicity_human'])\n",
    "for j in range(1, 10):\n",
    "    df2 = pd.read_csv('response' + str(j) + '.csv')\n",
    "    for i in range(0, len(df2)): \n",
    "        text = df2['text'][i]\n",
    "        label = df2['label'][i]\n",
    "        toxicity_level = df2['toxicity_level'][i]\n",
    "        explanation = df2['explanation'][i]\n",
    "        toxicity_human = df1['toxicity_human'][i + (1000 * (j - 1))]\n",
    "        response_df.loc[len(response_df)] = [text, label, toxicity_level, explanation, toxicity_human]\n",
    "    response_df.to_csv(f'response{j}.csv', index=False)"
   ]
  },
  {
   "cell_type": "code",
   "execution_count": 5,
   "metadata": {},
   "outputs": [],
   "source": [
    "df1 = pd.read_csv('test.csv')\n",
    "response_df = pd.DataFrame(columns=['text', 'label', 'toxicity_level', 'explanation', 'toxicity_human'])\n",
    "df2 = pd.read_csv('response_test.csv')\n",
    "for i in range(0, len(df2)): \n",
    "        text = df2['text'][i]\n",
    "        label = df2['label'][i]\n",
    "        toxicity_level = df2['toxicity_level'][i]\n",
    "        explanation = df2['explanation'][i]\n",
    "        toxicity_human = df1['toxicity_human'][i]\n",
    "        response_df.loc[len(response_df)] = [text, label, toxicity_level, explanation, toxicity_human]\n",
    "response_df.to_csv(f'response_test.csv', index=False)"
   ]
  }
 ],
 "metadata": {
  "kernelspec": {
   "display_name": "Python 3",
   "language": "python",
   "name": "python3"
  },
  "language_info": {
   "codemirror_mode": {
    "name": "ipython",
    "version": 3
   },
   "file_extension": ".py",
   "mimetype": "text/x-python",
   "name": "python",
   "nbconvert_exporter": "python",
   "pygments_lexer": "ipython3",
   "version": "3.10.5"
  }
 },
 "nbformat": 4,
 "nbformat_minor": 2
}
